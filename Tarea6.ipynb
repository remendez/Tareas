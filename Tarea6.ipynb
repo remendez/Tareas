{
  "metadata": {
    "kernelspec": {
      "name": "python",
      "display_name": "Python (Pyodide)",
      "language": "python"
    },
    "language_info": {
      "name": ""
    }
  },
  "nbformat_minor": 4,
  "nbformat": 4,
  "cells": [
    {
      "cell_type": "code",
      "source": "# Tarea 6  # Ejercicio 2",
      "metadata": {
        "trusted": true
      },
      "outputs": [],
      "execution_count": null
    },
    {
      "cell_type": "code",
      "source": "## Introducción  # Ejercicio 3\nEste cuaderno explora diferentes aspectos de la Ciencia de Datos, incluyendo lenguajes de programación, bibliotecas y herramientas útiles.",
      "metadata": {
        "trusted": true
      },
      "outputs": [],
      "execution_count": null
    },
    {
      "cell_type": "code",
      "source": "## Lenguajes de la Ciencia de Datos  # Ejercicio 4\n1. Python\n2. R\n3. SQL\n4. Java\n5. Scala\n",
      "metadata": {
        "trusted": true
      },
      "outputs": [],
      "execution_count": null
    },
    {
      "cell_type": "code",
      "source": "## Bibliotecas de Ciencia de Datos  # Ejercicio 5\n1. Pandas\n2. NumPy\n3. Matplotlib\n4. Scikit-learn\n5. TensorFlow",
      "metadata": {
        "trusted": true
      },
      "outputs": [],
      "execution_count": null
    },
    {
      "cell_type": "code",
      "source": "## Herramientas de Ciencia de Datos  # Ejercicio 6\n\n| Herramienta          | Tipo          | Uso Principal                |\n|----------------------|---------------|-------------------------------|\n| Jupyter Notebook      | IDE           | Análisis de Datos             |\n| Anaconda              | Distribución  | Gestión de entornos y paquetes|\n| Tableau               | Visualización | Análisis de datos visuales    |\n| Google Colab         | IDE en línea  | Proyectos colaborativos       |\n| Apache Spark         | Framework     | Procesamiento de Big Data     |",
      "metadata": {
        "trusted": true
      },
      "outputs": [],
      "execution_count": null
    },
    {
      "cell_type": "code",
      "source": "## Ejemplos de Expresiones Aritméticas  # Ejercicio 7\n- Suma: `2 + 2`\n- Resta: `5 - 3`\n- Multiplicación: `4 * 3`\n- División: `10 / 2`",
      "metadata": {
        "trusted": true
      },
      "outputs": [],
      "execution_count": null
    },
    {
      "cell_type": "code",
      "source": "# Multiplicar y Sumar Números  # Ejercicio 8\na = 5\nb = 10\nmultiplicacion = a * b\nsuma = a + b\nmultiplicacion, suma",
      "metadata": {
        "trusted": true
      },
      "outputs": [],
      "execution_count": null
    },
    {
      "cell_type": "code",
      "source": "# Convertir Minutos en Horas  # Ejercicio 9\ndef convertir_minutos_a_horas(minutos):\n    horas = minutos / 60\n    return horas\n\n# Ejemplo de uso\nconvertir_minutos_a_horas(120)",
      "metadata": {
        "trusted": true
      },
      "outputs": [],
      "execution_count": null
    },
    {
      "cell_type": "code",
      "source": "# Objetivos del Cuaderno  # Ejercicio 10\nobjetivos = [\n    \"Entender los conceptos básicos de la Ciencia de Datos.\",\n    \"Familiarizarse con los lenguajes y bibliotecas utilizados.\",\n    \"Aplicar herramientas para el análisis de datos.\"\n]\n\n# Mostrar objetivos\nfor objetivo in objetivos:\n    print(objetivo)",
      "metadata": {
        "trusted": true
      },
      "outputs": [],
      "execution_count": null
    },
    {
      "cell_type": "code",
      "source": "## Autor  # Ejercicio 11\n**Nombre del Autor:** Ing Rodrigo Eduardo Méndez Villabona",
      "metadata": {
        "trusted": true
      },
      "outputs": [],
      "execution_count": null
    },
    {
      "cell_type": "code",
      "source": "",
      "metadata": {
        "trusted": true
      },
      "outputs": [],
      "execution_count": null
    }
  ]
}